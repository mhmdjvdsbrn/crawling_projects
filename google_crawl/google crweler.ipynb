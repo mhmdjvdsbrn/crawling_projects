{
 "cells": [
  {
   "cell_type": "code",
   "execution_count": 1,
   "id": "6fcd58d6",
   "metadata": {},
   "outputs": [
    {
     "name": "stderr",
     "output_type": "stream",
     "text": [
      "C:\\Users\\jafad\\AppData\\Local\\Temp\\ipykernel_12688\\1333907254.py:5: DeprecationWarning: executable_path has been deprecated, please pass in a Service object\n",
      "  driver = webdriver.Chrome(\"A:/DJANGO/CV/google/chromedriver.exe\")\n"
     ]
    },
    {
     "ename": "SessionNotCreatedException",
     "evalue": "Message: session not created: This version of ChromeDriver only supports Chrome version 97\nCurrent browser version is 101.0.4951.67 with binary path C:\\Program Files\\Google\\Chrome\\Application\\chrome.exe\nStacktrace:\nBacktrace:\n\tOrdinal0 [0x00DDFDC3+2555331]\n\tOrdinal0 [0x00D777F1+2127857]\n\tOrdinal0 [0x00C72E08+1060360]\n\tOrdinal0 [0x00C919CA+1186250]\n\tOrdinal0 [0x00C8D825+1169445]\n\tOrdinal0 [0x00C8AFC1+1159105]\n\tOrdinal0 [0x00CBC22F+1360431]\n\tOrdinal0 [0x00CBBE9A+1359514]\n\tOrdinal0 [0x00CB7976+1341814]\n\tOrdinal0 [0x00C936B6+1193654]\n\tOrdinal0 [0x00C94546+1197382]\n\tGetHandleVerifier [0x00F79622+1619522]\n\tGetHandleVerifier [0x0102882C+2336844]\n\tGetHandleVerifier [0x00E723E1+541697]\n\tGetHandleVerifier [0x00E71443+537699]\n\tOrdinal0 [0x00D7D18E+2150798]\n\tOrdinal0 [0x00D81518+2168088]\n\tOrdinal0 [0x00D81660+2168416]\n\tOrdinal0 [0x00D8B330+2208560]\n\tBaseThreadInitThunk [0x7718FA29+25]\n\tRtlGetAppContainerNamedObjectPath [0x775B7A7E+286]\n\tRtlGetAppContainerNamedObjectPath [0x775B7A4E+238]\n",
     "output_type": "error",
     "traceback": [
      "\u001b[1;31m---------------------------------------------------------------------------\u001b[0m",
      "\u001b[1;31mSessionNotCreatedException\u001b[0m                Traceback (most recent call last)",
      "\u001b[1;32ma:\\DJANGO\\CV\\google\\google crweler.ipynb Cell 1'\u001b[0m in \u001b[0;36m<module>\u001b[1;34m\u001b[0m\n\u001b[0;32m      <a href='vscode-notebook-cell:/a%3A/DJANGO/CV/google/google%20crweler.ipynb#ch0000000?line=1'>2</a>\u001b[0m \u001b[39mfrom\u001b[39;00m \u001b[39mselenium\u001b[39;00m\u001b[39m.\u001b[39;00m\u001b[39mwebdriver\u001b[39;00m\u001b[39m.\u001b[39;00m\u001b[39mcommon\u001b[39;00m\u001b[39m.\u001b[39;00m\u001b[39mkeys\u001b[39;00m \u001b[39mimport\u001b[39;00m Keys\n\u001b[0;32m      <a href='vscode-notebook-cell:/a%3A/DJANGO/CV/google/google%20crweler.ipynb#ch0000000?line=2'>3</a>\u001b[0m \u001b[39mimport\u001b[39;00m \u001b[39mpandas\u001b[39;00m \u001b[39mas\u001b[39;00m \u001b[39mpd\u001b[39;00m\n\u001b[1;32m----> <a href='vscode-notebook-cell:/a%3A/DJANGO/CV/google/google%20crweler.ipynb#ch0000000?line=4'>5</a>\u001b[0m driver \u001b[39m=\u001b[39m webdriver\u001b[39m.\u001b[39;49mChrome(\u001b[39m\"\u001b[39;49m\u001b[39mA:/DJANGO/CV/google/chromedriver.exe\u001b[39;49m\u001b[39m\"\u001b[39;49m)\n\u001b[0;32m      <a href='vscode-notebook-cell:/a%3A/DJANGO/CV/google/google%20crweler.ipynb#ch0000000?line=5'>6</a>\u001b[0m driver\u001b[39m.\u001b[39mget(\u001b[39m\"\u001b[39m\u001b[39mhttps://www.google.com/\u001b[39m\u001b[39m\"\u001b[39m)\n\u001b[0;32m      <a href='vscode-notebook-cell:/a%3A/DJANGO/CV/google/google%20crweler.ipynb#ch0000000?line=7'>8</a>\u001b[0m result \u001b[39m=\u001b[39m driver\u001b[39m.\u001b[39mfind_element_by_css_selector(\u001b[39m\"\u001b[39m\u001b[39mbody > div.L3eUgb > div.o3j99.ikrT4e.om7nvf > form > div:nth-child(1) > div.A8SBwf > div.RNNXgb > div > div.a4bIc > input\u001b[39m\u001b[39m\"\u001b[39m)\n",
      "File \u001b[1;32mc:\\Users\\jafad\\AppData\\Local\\Programs\\Python\\Python39\\lib\\site-packages\\selenium\\webdriver\\chrome\\webdriver.py:70\u001b[0m, in \u001b[0;36mWebDriver.__init__\u001b[1;34m(self, executable_path, port, options, service_args, desired_capabilities, service_log_path, chrome_options, service, keep_alive)\u001b[0m\n\u001b[0;32m     <a href='file:///c%3A/Users/jafad/AppData/Local/Programs/Python/Python39/lib/site-packages/selenium/webdriver/chrome/webdriver.py?line=66'>67</a>\u001b[0m \u001b[39mif\u001b[39;00m \u001b[39mnot\u001b[39;00m service:\n\u001b[0;32m     <a href='file:///c%3A/Users/jafad/AppData/Local/Programs/Python/Python39/lib/site-packages/selenium/webdriver/chrome/webdriver.py?line=67'>68</a>\u001b[0m     service \u001b[39m=\u001b[39m Service(executable_path, port, service_args, service_log_path)\n\u001b[1;32m---> <a href='file:///c%3A/Users/jafad/AppData/Local/Programs/Python/Python39/lib/site-packages/selenium/webdriver/chrome/webdriver.py?line=69'>70</a>\u001b[0m \u001b[39msuper\u001b[39;49m(WebDriver, \u001b[39mself\u001b[39;49m)\u001b[39m.\u001b[39;49m\u001b[39m__init__\u001b[39;49m(DesiredCapabilities\u001b[39m.\u001b[39;49mCHROME[\u001b[39m'\u001b[39;49m\u001b[39mbrowserName\u001b[39;49m\u001b[39m'\u001b[39;49m], \u001b[39m\"\u001b[39;49m\u001b[39mgoog\u001b[39;49m\u001b[39m\"\u001b[39;49m,\n\u001b[0;32m     <a href='file:///c%3A/Users/jafad/AppData/Local/Programs/Python/Python39/lib/site-packages/selenium/webdriver/chrome/webdriver.py?line=70'>71</a>\u001b[0m                                 port, options,\n\u001b[0;32m     <a href='file:///c%3A/Users/jafad/AppData/Local/Programs/Python/Python39/lib/site-packages/selenium/webdriver/chrome/webdriver.py?line=71'>72</a>\u001b[0m                                 service_args, desired_capabilities,\n\u001b[0;32m     <a href='file:///c%3A/Users/jafad/AppData/Local/Programs/Python/Python39/lib/site-packages/selenium/webdriver/chrome/webdriver.py?line=72'>73</a>\u001b[0m                                 service_log_path, service, keep_alive)\n",
      "File \u001b[1;32mc:\\Users\\jafad\\AppData\\Local\\Programs\\Python\\Python39\\lib\\site-packages\\selenium\\webdriver\\chromium\\webdriver.py:93\u001b[0m, in \u001b[0;36mChromiumDriver.__init__\u001b[1;34m(self, browser_name, vendor_prefix, port, options, service_args, desired_capabilities, service_log_path, service, keep_alive)\u001b[0m\n\u001b[0;32m     <a href='file:///c%3A/Users/jafad/AppData/Local/Programs/Python/Python39/lib/site-packages/selenium/webdriver/chromium/webdriver.py?line=89'>90</a>\u001b[0m \u001b[39mself\u001b[39m\u001b[39m.\u001b[39mservice\u001b[39m.\u001b[39mstart()\n\u001b[0;32m     <a href='file:///c%3A/Users/jafad/AppData/Local/Programs/Python/Python39/lib/site-packages/selenium/webdriver/chromium/webdriver.py?line=91'>92</a>\u001b[0m \u001b[39mtry\u001b[39;00m:\n\u001b[1;32m---> <a href='file:///c%3A/Users/jafad/AppData/Local/Programs/Python/Python39/lib/site-packages/selenium/webdriver/chromium/webdriver.py?line=92'>93</a>\u001b[0m     RemoteWebDriver\u001b[39m.\u001b[39;49m\u001b[39m__init__\u001b[39;49m(\n\u001b[0;32m     <a href='file:///c%3A/Users/jafad/AppData/Local/Programs/Python/Python39/lib/site-packages/selenium/webdriver/chromium/webdriver.py?line=93'>94</a>\u001b[0m         \u001b[39mself\u001b[39;49m,\n\u001b[0;32m     <a href='file:///c%3A/Users/jafad/AppData/Local/Programs/Python/Python39/lib/site-packages/selenium/webdriver/chromium/webdriver.py?line=94'>95</a>\u001b[0m         command_executor\u001b[39m=\u001b[39;49mChromiumRemoteConnection(\n\u001b[0;32m     <a href='file:///c%3A/Users/jafad/AppData/Local/Programs/Python/Python39/lib/site-packages/selenium/webdriver/chromium/webdriver.py?line=95'>96</a>\u001b[0m             remote_server_addr\u001b[39m=\u001b[39;49m\u001b[39mself\u001b[39;49m\u001b[39m.\u001b[39;49mservice\u001b[39m.\u001b[39;49mservice_url,\n\u001b[0;32m     <a href='file:///c%3A/Users/jafad/AppData/Local/Programs/Python/Python39/lib/site-packages/selenium/webdriver/chromium/webdriver.py?line=96'>97</a>\u001b[0m             browser_name\u001b[39m=\u001b[39;49mbrowser_name, vendor_prefix\u001b[39m=\u001b[39;49mvendor_prefix,\n\u001b[0;32m     <a href='file:///c%3A/Users/jafad/AppData/Local/Programs/Python/Python39/lib/site-packages/selenium/webdriver/chromium/webdriver.py?line=97'>98</a>\u001b[0m             keep_alive\u001b[39m=\u001b[39;49mkeep_alive, ignore_proxy\u001b[39m=\u001b[39;49m_ignore_proxy),\n\u001b[0;32m     <a href='file:///c%3A/Users/jafad/AppData/Local/Programs/Python/Python39/lib/site-packages/selenium/webdriver/chromium/webdriver.py?line=98'>99</a>\u001b[0m         options\u001b[39m=\u001b[39;49moptions)\n\u001b[0;32m    <a href='file:///c%3A/Users/jafad/AppData/Local/Programs/Python/Python39/lib/site-packages/selenium/webdriver/chromium/webdriver.py?line=99'>100</a>\u001b[0m \u001b[39mexcept\u001b[39;00m \u001b[39mException\u001b[39;00m:\n\u001b[0;32m    <a href='file:///c%3A/Users/jafad/AppData/Local/Programs/Python/Python39/lib/site-packages/selenium/webdriver/chromium/webdriver.py?line=100'>101</a>\u001b[0m     \u001b[39mself\u001b[39m\u001b[39m.\u001b[39mquit()\n",
      "File \u001b[1;32mc:\\Users\\jafad\\AppData\\Local\\Programs\\Python\\Python39\\lib\\site-packages\\selenium\\webdriver\\remote\\webdriver.py:268\u001b[0m, in \u001b[0;36mWebDriver.__init__\u001b[1;34m(self, command_executor, desired_capabilities, browser_profile, proxy, keep_alive, file_detector, options)\u001b[0m\n\u001b[0;32m    <a href='file:///c%3A/Users/jafad/AppData/Local/Programs/Python/Python39/lib/site-packages/selenium/webdriver/remote/webdriver.py?line=265'>266</a>\u001b[0m \u001b[39mself\u001b[39m\u001b[39m.\u001b[39mfile_detector \u001b[39m=\u001b[39m file_detector \u001b[39mor\u001b[39;00m LocalFileDetector()\n\u001b[0;32m    <a href='file:///c%3A/Users/jafad/AppData/Local/Programs/Python/Python39/lib/site-packages/selenium/webdriver/remote/webdriver.py?line=266'>267</a>\u001b[0m \u001b[39mself\u001b[39m\u001b[39m.\u001b[39mstart_client()\n\u001b[1;32m--> <a href='file:///c%3A/Users/jafad/AppData/Local/Programs/Python/Python39/lib/site-packages/selenium/webdriver/remote/webdriver.py?line=267'>268</a>\u001b[0m \u001b[39mself\u001b[39;49m\u001b[39m.\u001b[39;49mstart_session(capabilities, browser_profile)\n",
      "File \u001b[1;32mc:\\Users\\jafad\\AppData\\Local\\Programs\\Python\\Python39\\lib\\site-packages\\selenium\\webdriver\\remote\\webdriver.py:359\u001b[0m, in \u001b[0;36mWebDriver.start_session\u001b[1;34m(self, capabilities, browser_profile)\u001b[0m\n\u001b[0;32m    <a href='file:///c%3A/Users/jafad/AppData/Local/Programs/Python/Python39/lib/site-packages/selenium/webdriver/remote/webdriver.py?line=355'>356</a>\u001b[0m w3c_caps \u001b[39m=\u001b[39m _make_w3c_caps(capabilities)\n\u001b[0;32m    <a href='file:///c%3A/Users/jafad/AppData/Local/Programs/Python/Python39/lib/site-packages/selenium/webdriver/remote/webdriver.py?line=356'>357</a>\u001b[0m parameters \u001b[39m=\u001b[39m {\u001b[39m\"\u001b[39m\u001b[39mcapabilities\u001b[39m\u001b[39m\"\u001b[39m: w3c_caps,\n\u001b[0;32m    <a href='file:///c%3A/Users/jafad/AppData/Local/Programs/Python/Python39/lib/site-packages/selenium/webdriver/remote/webdriver.py?line=357'>358</a>\u001b[0m               \u001b[39m\"\u001b[39m\u001b[39mdesiredCapabilities\u001b[39m\u001b[39m\"\u001b[39m: capabilities}\n\u001b[1;32m--> <a href='file:///c%3A/Users/jafad/AppData/Local/Programs/Python/Python39/lib/site-packages/selenium/webdriver/remote/webdriver.py?line=358'>359</a>\u001b[0m response \u001b[39m=\u001b[39m \u001b[39mself\u001b[39;49m\u001b[39m.\u001b[39;49mexecute(Command\u001b[39m.\u001b[39;49mNEW_SESSION, parameters)\n\u001b[0;32m    <a href='file:///c%3A/Users/jafad/AppData/Local/Programs/Python/Python39/lib/site-packages/selenium/webdriver/remote/webdriver.py?line=359'>360</a>\u001b[0m \u001b[39mif\u001b[39;00m \u001b[39m'\u001b[39m\u001b[39msessionId\u001b[39m\u001b[39m'\u001b[39m \u001b[39mnot\u001b[39;00m \u001b[39min\u001b[39;00m response:\n\u001b[0;32m    <a href='file:///c%3A/Users/jafad/AppData/Local/Programs/Python/Python39/lib/site-packages/selenium/webdriver/remote/webdriver.py?line=360'>361</a>\u001b[0m     response \u001b[39m=\u001b[39m response[\u001b[39m'\u001b[39m\u001b[39mvalue\u001b[39m\u001b[39m'\u001b[39m]\n",
      "File \u001b[1;32mc:\\Users\\jafad\\AppData\\Local\\Programs\\Python\\Python39\\lib\\site-packages\\selenium\\webdriver\\remote\\webdriver.py:424\u001b[0m, in \u001b[0;36mWebDriver.execute\u001b[1;34m(self, driver_command, params)\u001b[0m\n\u001b[0;32m    <a href='file:///c%3A/Users/jafad/AppData/Local/Programs/Python/Python39/lib/site-packages/selenium/webdriver/remote/webdriver.py?line=421'>422</a>\u001b[0m response \u001b[39m=\u001b[39m \u001b[39mself\u001b[39m\u001b[39m.\u001b[39mcommand_executor\u001b[39m.\u001b[39mexecute(driver_command, params)\n\u001b[0;32m    <a href='file:///c%3A/Users/jafad/AppData/Local/Programs/Python/Python39/lib/site-packages/selenium/webdriver/remote/webdriver.py?line=422'>423</a>\u001b[0m \u001b[39mif\u001b[39;00m response:\n\u001b[1;32m--> <a href='file:///c%3A/Users/jafad/AppData/Local/Programs/Python/Python39/lib/site-packages/selenium/webdriver/remote/webdriver.py?line=423'>424</a>\u001b[0m     \u001b[39mself\u001b[39;49m\u001b[39m.\u001b[39;49merror_handler\u001b[39m.\u001b[39;49mcheck_response(response)\n\u001b[0;32m    <a href='file:///c%3A/Users/jafad/AppData/Local/Programs/Python/Python39/lib/site-packages/selenium/webdriver/remote/webdriver.py?line=424'>425</a>\u001b[0m     response[\u001b[39m'\u001b[39m\u001b[39mvalue\u001b[39m\u001b[39m'\u001b[39m] \u001b[39m=\u001b[39m \u001b[39mself\u001b[39m\u001b[39m.\u001b[39m_unwrap_value(\n\u001b[0;32m    <a href='file:///c%3A/Users/jafad/AppData/Local/Programs/Python/Python39/lib/site-packages/selenium/webdriver/remote/webdriver.py?line=425'>426</a>\u001b[0m         response\u001b[39m.\u001b[39mget(\u001b[39m'\u001b[39m\u001b[39mvalue\u001b[39m\u001b[39m'\u001b[39m, \u001b[39mNone\u001b[39;00m))\n\u001b[0;32m    <a href='file:///c%3A/Users/jafad/AppData/Local/Programs/Python/Python39/lib/site-packages/selenium/webdriver/remote/webdriver.py?line=426'>427</a>\u001b[0m     \u001b[39mreturn\u001b[39;00m response\n",
      "File \u001b[1;32mc:\\Users\\jafad\\AppData\\Local\\Programs\\Python\\Python39\\lib\\site-packages\\selenium\\webdriver\\remote\\errorhandler.py:247\u001b[0m, in \u001b[0;36mErrorHandler.check_response\u001b[1;34m(self, response)\u001b[0m\n\u001b[0;32m    <a href='file:///c%3A/Users/jafad/AppData/Local/Programs/Python/Python39/lib/site-packages/selenium/webdriver/remote/errorhandler.py?line=244'>245</a>\u001b[0m         alert_text \u001b[39m=\u001b[39m value[\u001b[39m'\u001b[39m\u001b[39malert\u001b[39m\u001b[39m'\u001b[39m]\u001b[39m.\u001b[39mget(\u001b[39m'\u001b[39m\u001b[39mtext\u001b[39m\u001b[39m'\u001b[39m)\n\u001b[0;32m    <a href='file:///c%3A/Users/jafad/AppData/Local/Programs/Python/Python39/lib/site-packages/selenium/webdriver/remote/errorhandler.py?line=245'>246</a>\u001b[0m     \u001b[39mraise\u001b[39;00m exception_class(message, screen, stacktrace, alert_text)  \u001b[39m# type: ignore[call-arg]  # mypy is not smart enough here\u001b[39;00m\n\u001b[1;32m--> <a href='file:///c%3A/Users/jafad/AppData/Local/Programs/Python/Python39/lib/site-packages/selenium/webdriver/remote/errorhandler.py?line=246'>247</a>\u001b[0m \u001b[39mraise\u001b[39;00m exception_class(message, screen, stacktrace)\n",
      "\u001b[1;31mSessionNotCreatedException\u001b[0m: Message: session not created: This version of ChromeDriver only supports Chrome version 97\nCurrent browser version is 101.0.4951.67 with binary path C:\\Program Files\\Google\\Chrome\\Application\\chrome.exe\nStacktrace:\nBacktrace:\n\tOrdinal0 [0x00DDFDC3+2555331]\n\tOrdinal0 [0x00D777F1+2127857]\n\tOrdinal0 [0x00C72E08+1060360]\n\tOrdinal0 [0x00C919CA+1186250]\n\tOrdinal0 [0x00C8D825+1169445]\n\tOrdinal0 [0x00C8AFC1+1159105]\n\tOrdinal0 [0x00CBC22F+1360431]\n\tOrdinal0 [0x00CBBE9A+1359514]\n\tOrdinal0 [0x00CB7976+1341814]\n\tOrdinal0 [0x00C936B6+1193654]\n\tOrdinal0 [0x00C94546+1197382]\n\tGetHandleVerifier [0x00F79622+1619522]\n\tGetHandleVerifier [0x0102882C+2336844]\n\tGetHandleVerifier [0x00E723E1+541697]\n\tGetHandleVerifier [0x00E71443+537699]\n\tOrdinal0 [0x00D7D18E+2150798]\n\tOrdinal0 [0x00D81518+2168088]\n\tOrdinal0 [0x00D81660+2168416]\n\tOrdinal0 [0x00D8B330+2208560]\n\tBaseThreadInitThunk [0x7718FA29+25]\n\tRtlGetAppContainerNamedObjectPath [0x775B7A7E+286]\n\tRtlGetAppContainerNamedObjectPath [0x775B7A4E+238]\n"
     ]
    }
   ],
   "source": [
    "#Using this program, by entering each word, it receives and displays Google pages\n",
    "#(due to many changes in Google, it may not run properly from the time it runs)\n",
    "\n",
    "from selenium import webdriver\n",
    "from selenium.webdriver.common.keys import Keys\n",
    "import pandas as pd\n",
    "\n",
    "driver = webdriver.Chrome(\"A:/DJANGO/CV/google/chromedriver.exe\")\n",
    "driver.get(\"https://www.google.com/\")\n",
    "\n",
    "result = driver.find_element_by_css_selector(\"body > div.L3eUgb > div.o3j99.ikrT4e.om7nvf > form > div:nth-child(1) > div.A8SBwf > div.RNNXgb > div > div.a4bIc > input\")\n",
    "result.send_keys('پازل')\n",
    "\n",
    "result.submit()\n",
    "\n",
    "result1 = driver.find_elements_by_class_name(\"VwiC3b.yXK7lf.MUxGbd.yDYNvb.lyLwlc.lEBKkf\")\n",
    "desc = [re.text for re in result1]\n",
    "\n",
    "results_links4 = driver.find_elements_by_class_name(\"yuRUbf>a\")\n",
    "links = [tag.get_attribute('href') for tag in results_links4]\n",
    "\n",
    "\n",
    "\n",
    "result = driver.find_elements_by_class_name(\"LC20lb.MBeuO.DKV0Md>span\")\n",
    "titles = [title.text for title in result]\n",
    "data=pd.DataFrame({\n",
    "    \"links\" :links[0:6] ,\n",
    "    \"titles\" : titles[0:6] ,\n",
    "    \"desc\" : desc[0:6]\n",
    "})\n",
    "data\n"
   ]
  }
 ],
 "metadata": {
  "interpreter": {
   "hash": "7e7572e53d3cc1f81abd10fca1743a7c46018780cac3d16b09ce3f4a0696dd6f"
  },
  "kernelspec": {
   "display_name": "Python 3.9.10 64-bit",
   "language": "python",
   "name": "python3"
  },
  "language_info": {
   "codemirror_mode": {
    "name": "ipython",
    "version": 3
   },
   "file_extension": ".py",
   "mimetype": "text/x-python",
   "name": "python",
   "nbconvert_exporter": "python",
   "pygments_lexer": "ipython3",
   "version": "3.9.10"
  }
 },
 "nbformat": 4,
 "nbformat_minor": 5
}
