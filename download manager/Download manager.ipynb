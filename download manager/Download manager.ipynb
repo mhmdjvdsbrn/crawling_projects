{
 "cells": [
  {
   "cell_type": "code",
   "execution_count": 40,
   "id": "0866260b",
   "metadata": {},
   "outputs": [
    {
     "name": "stderr",
     "output_type": "stream",
     "text": [
      "  0%|          | 0.00/5.00M [00:54<?, ?B/s]\n",
      "\n",
      "\n",
      "  0%|          | 0.00/5.00M [00:00<?, ?B/s]\u001b[A\u001b[A\n",
      "\n",
      " 23%|██▎       | 1.14M/5.00M [00:00<00:00, 10.9MB/s]\u001b[A\u001b[A\n",
      "\n",
      " 45%|████▌     | 2.27M/5.00M [00:00<00:00, 11.0MB/s]\u001b[A\u001b[A\n",
      "\n",
      " 68%|██████▊   | 3.41M/5.00M [00:00<00:00, 11.1MB/s]\u001b[A\u001b[A\n",
      "\n",
      "100%|██████████| 5.00M/5.00M [00:00<00:00, 11.2MB/s]\u001b[A\u001b[A\n"
     ]
    }
   ],
   "source": [
    "import requests\n",
    "from tqdm import tqdm\n",
    "import math\n",
    "def dowmload_file(url,address = False):\n",
    "    file = requests.get(url , stream = True)\n",
    "    total_bit = int(file.headers.get('Content-Length',0))\n",
    "    scale_pow = math.floor(math.log(total_bit,1024))\n",
    "    total_size = (total_bit / math.pow(1024,scale_pow))*math.pow(1000,scale_pow)\n",
    "    block_size = 4096\n",
    "    t = tqdm(total=total_size,unit_scale=True,unit='B')\n",
    "    file_name = url.split('/')[-1]\n",
    "    if not address:\n",
    "        file_addres = file_name\n",
    "    else:\n",
    "        file_addres = address + r'/'+file_name\n",
    "    \n",
    "    with open (file_addres,'wb') as f:\n",
    "        for chunk in file.iter_content(block_size):\n",
    "            t.update((len(chunk)/math.pow(1024, scale_pow))*math.pow(1000, scale_pow))\n",
    "            f.write(chunk)\n",
    "    f.close()\n",
    "dowmload_file('http://212.183.159.230/5MB.zip',address = r'C:\\Users\\jafad\\jup.practice(crawler)')"
   ]
  },
  {
   "cell_type": "code",
   "execution_count": null,
   "id": "4aaf7175",
   "metadata": {},
   "outputs": [],
   "source": []
  },
  {
   "cell_type": "code",
   "execution_count": null,
   "id": "1815d25b",
   "metadata": {},
   "outputs": [],
   "source": []
  }
 ],
 "metadata": {
  "kernelspec": {
   "display_name": "Python 3 (ipykernel)",
   "language": "python",
   "name": "python3"
  },
  "language_info": {
   "codemirror_mode": {
    "name": "ipython",
    "version": 3
   },
   "file_extension": ".py",
   "mimetype": "text/x-python",
   "name": "python",
   "nbconvert_exporter": "python",
   "pygments_lexer": "ipython3",
   "version": "3.9.7"
  }
 },
 "nbformat": 4,
 "nbformat_minor": 5
}
